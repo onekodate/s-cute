{
 "cells": [
  {
   "cell_type": "code",
   "execution_count": 1,
   "metadata": {},
   "outputs": [],
   "source": [
    "from fetch_and_update import Fetch_and_Write\n",
    "from bs4 import BeautifulSoup\n",
    "self: Fetch_and_Write = Fetch_and_Write(\"mgstage\")\n",
    "target: str = \"SIRO\"\n",
    "num: str = \"1\"\n",
    "url: str = f\"https://www.mgstage.com/product/product_detail/{target}-{num.zfill(3)}/\"\n",
    "div: BeautifulSoup = self.wait_and_fetch(url)"
   ]
  },
  {
   "cell_type": "code",
   "execution_count": 13,
   "metadata": {},
   "outputs": [
    {
     "name": "stdout",
     "output_type": "stream",
     "text": [
      "APPEND 1,なみ,MOON FORCE WIFE,旅は貞淑妻さえも大胆にさせる…すぐ傍に人の気配を感じる露天風呂で身も心も大解放！「お家でこんなになったことない…」ねっとりピストンで愛される悦びを思い出した身体はイキっぱなし！放物線を描く大量のハメ潮が止まらない初めての不倫旅行！【なみ/32歳/結婚5年目】,https://www.mgstage.com/product/product_detail/435MFCW-001/,2023/07/10,\n",
      "APPEND 1,,Rコンテンツ,#不動産営業(25) #スマホショップ(24) #空港スタッフ(26) #巨乳 #ヤレる子 #押しに弱い #中出し #グイグイ 街頭パンパン  001 【ヤレる子・巨乳3名】,https://www.mgstage.com/product/product_detail/RCON-001/,2023/10/30,\n",
      "NOT FOUND https://www.mgstage.com/product/product_detail/MFC-001/\n",
      "NOT FOUND https://www.mgstage.com/product/product_detail/MFC-002/\n",
      "NOT FOUND https://www.mgstage.com/product/product_detail/MFC-003/\n",
      "NOT FOUND https://www.mgstage.com/product/product_detail/MFC-004/\n"
     ]
    },
    {
     "ename": "KeyboardInterrupt",
     "evalue": "",
     "output_type": "error",
     "traceback": [
      "\u001b[1;31m---------------------------------------------------------------------------\u001b[0m",
      "\u001b[1;31mKeyboardInterrupt\u001b[0m                         Traceback (most recent call last)",
      "Cell \u001b[1;32mIn[13], line 24\u001b[0m\n\u001b[0;32m     22\u001b[0m num: \u001b[38;5;28mstr\u001b[39m \u001b[38;5;241m=\u001b[39m \u001b[38;5;28mstr\u001b[39m(i)\n\u001b[0;32m     23\u001b[0m url: \u001b[38;5;28mstr\u001b[39m \u001b[38;5;241m=\u001b[39m \u001b[38;5;124mf\u001b[39m\u001b[38;5;124m\"\u001b[39m\u001b[38;5;124mhttps://www.mgstage.com/product/product_detail/\u001b[39m\u001b[38;5;132;01m{\u001b[39;00mtarget\u001b[38;5;132;01m}\u001b[39;00m\u001b[38;5;124m-\u001b[39m\u001b[38;5;132;01m{\u001b[39;00mnum\u001b[38;5;241m.\u001b[39mzfill(\u001b[38;5;241m3\u001b[39m)\u001b[38;5;132;01m}\u001b[39;00m\u001b[38;5;124m/\u001b[39m\u001b[38;5;124m\"\u001b[39m\n\u001b[1;32m---> 24\u001b[0m div: BeautifulSoup \u001b[38;5;241m=\u001b[39m \u001b[38;5;28;43mself\u001b[39;49m\u001b[38;5;241;43m.\u001b[39;49m\u001b[43mwait_and_fetch\u001b[49m\u001b[43m(\u001b[49m\u001b[43murl\u001b[49m\u001b[43m)\u001b[49m\n\u001b[0;32m     25\u001b[0m \u001b[38;5;28;01mif\u001b[39;00m div\u001b[38;5;241m.\u001b[39mfind(\u001b[38;5;124m\"\u001b[39m\u001b[38;5;124mh1\u001b[39m\u001b[38;5;124m\"\u001b[39m, class_\u001b[38;5;241m=\u001b[39m\u001b[38;5;124m\"\u001b[39m\u001b[38;5;124mtag\u001b[39m\u001b[38;5;124m\"\u001b[39m) \u001b[38;5;129;01mis\u001b[39;00m \u001b[38;5;28;01mNone\u001b[39;00m:\n\u001b[0;32m     26\u001b[0m     \u001b[38;5;28mprint\u001b[39m(\u001b[38;5;124mf\u001b[39m\u001b[38;5;124m\"\u001b[39m\u001b[38;5;124mNOT FOUND \u001b[39m\u001b[38;5;132;01m{\u001b[39;00murl\u001b[38;5;132;01m}\u001b[39;00m\u001b[38;5;124m\"\u001b[39m)\n",
      "File \u001b[1;32mc:\\Users\\zichi\\Documents\\s-cute\\fetch_and_update.py:27\u001b[0m, in \u001b[0;36mFetch_and_Write.wait_and_fetch\u001b[1;34m(self, url)\u001b[0m\n\u001b[0;32m     26\u001b[0m \u001b[38;5;28;01mdef\u001b[39;00m \u001b[38;5;21mwait_and_fetch\u001b[39m(\u001b[38;5;28mself\u001b[39m, url: \u001b[38;5;28mstr\u001b[39m) \u001b[38;5;241m-\u001b[39m\u001b[38;5;241m>\u001b[39m BeautifulSoup:\n\u001b[1;32m---> 27\u001b[0m     time\u001b[38;5;241m.\u001b[39msleep(\u001b[38;5;241m5\u001b[39m)\n\u001b[0;32m     28\u001b[0m     \u001b[38;5;28;01mreturn\u001b[39;00m BeautifulSoup(\n\u001b[0;32m     29\u001b[0m         requests\u001b[38;5;241m.\u001b[39mget(\n\u001b[0;32m     30\u001b[0m             url,\n\u001b[1;32m   (...)\u001b[0m\n\u001b[0;32m     46\u001b[0m         \u001b[38;5;124m\"\u001b[39m\u001b[38;5;124mhtml.parser\u001b[39m\u001b[38;5;124m\"\u001b[39m,\n\u001b[0;32m     47\u001b[0m     )\n",
      "\u001b[1;31mKeyboardInterrupt\u001b[0m: "
     ]
    }
   ],
   "source": [
    "for target in [\n",
    "    \"300MIUM\",\n",
    "    \"348NTR\",\n",
    "    \"390JAC\",\n",
    "    \"390JNT\",\n",
    "    \"451HHH\",\n",
    "    \"483SGK\",\n",
    "    \"380SQB\",\n",
    "    \"200GANA\",\n",
    "    \"SIRO\",\n",
    "    \"300MAAN\",  # -> MAAN\n",
    "    \"420ERK\",\n",
    "    \"435MFCS\",  # -> MFCS\n",
    "    \"428SUKE\",  # -> SUKE\n",
    "    \"435MFCW\",  # -> MFCW\n",
    "    \"RCON\",\n",
    "    \"435MFC\",   # -> MFC\n",
    "]:\n",
    "    break_count: int = 0\n",
    "    for i in range(1, 10000):\n",
    "        num: str = str(i)\n",
    "        url: str = f\"https://www.mgstage.com/product/product_detail/{target}-{num.zfill(3)}/\"\n",
    "        div: BeautifulSoup = self.wait_and_fetch(url)\n",
    "        if div.find(\"h1\", class_=\"tag\") is None:\n",
    "            print(f\"NOT FOUND {url}\")\n",
    "            break_count += 1\n",
    "            continue\n",
    "        else:\n",
    "            break_count = 0\n",
    "            title: str = div.find(\"h1\", class_=\"tag\").text.strip()\n",
    "            girl: str = \"\"\n",
    "            date: str = \"\"\n",
    "            genre: str = \"\"\n",
    "            for table in div.find(\"div\", class_=\"detail_data\").find_all_next(\"table\"):\n",
    "                for tr in table.find_all(\"tr\"):\n",
    "                    if tr.th is None:\n",
    "                        continue\n",
    "                    elif \"出演\" in tr.th.text:\n",
    "                        girl = tr.td.text.strip()\n",
    "                    elif \"配信開始日\" in tr.th.text:\n",
    "                        date = tr.td.text.strip()\n",
    "                    elif \"レーベル\" in tr.th.text:\n",
    "                        genre = tr.td.text.strip()\n",
    "            #                 0   1   2      3     4   5    6\n",
    "            #                 925 Mei S-cute Title URL Date 場所\n",
    "            row: list[str] = [num, girl, genre, title, url, date, \"\"]\n",
    "            # self.data.append(row)\n",
    "            print(f'APPEND {\",\".join(row)}')\n",
    "            # break_count = 0\n",
    "            break\n",
    "\n"
   ]
  },
  {
   "cell_type": "code",
   "execution_count": 9,
   "metadata": {},
   "outputs": [
    {
     "data": {
      "text/plain": [
       "True"
      ]
     },
     "execution_count": 9,
     "metadata": {},
     "output_type": "execute_result"
    }
   ],
   "source": [
    "tr.th is None"
   ]
  }
 ],
 "metadata": {
  "kernelspec": {
   "display_name": "Python 3",
   "language": "python",
   "name": "python3"
  },
  "language_info": {
   "codemirror_mode": {
    "name": "ipython",
    "version": 3
   },
   "file_extension": ".py",
   "mimetype": "text/x-python",
   "name": "python",
   "nbconvert_exporter": "python",
   "pygments_lexer": "ipython3",
   "version": "3.11.7"
  }
 },
 "nbformat": 4,
 "nbformat_minor": 2
}
